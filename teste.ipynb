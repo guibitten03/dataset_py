{
 "cells": [
  {
   "cell_type": "code",
   "execution_count": 11,
   "metadata": {},
   "outputs": [],
   "source": [
    "import pandas as pd   "
   ]
  },
  {
   "cell_type": "code",
   "execution_count": 9,
   "metadata": {},
   "outputs": [
    {
     "name": "stdout",
     "output_type": "stream",
     "text": [
      "N users:  942\n"
     ]
    }
   ],
   "source": [
    "user_path = './ml-100k/u.user'\n",
    "\n",
    "my_dataset = pd.read_csv(user_path, delimiter=\"|\") \n",
    "\n",
    "dataset_rows = len(my_dataset)\n",
    "\n",
    "print(\"N users: \",dataset_rows)\n"
   ]
  },
  {
   "cell_type": "code",
   "execution_count": 21,
   "metadata": {},
   "outputs": [
    {
     "ename": "NameError",
     "evalue": "name 'items_line' is not defined",
     "output_type": "error",
     "traceback": [
      "\u001b[0;31m---------------------------------------------------------------------------\u001b[0m",
      "\u001b[0;31mNameError\u001b[0m                                 Traceback (most recent call last)",
      "\u001b[1;32m/home/guibyte/projects/dataset_py/teste.ipynb Cell 3'\u001b[0m in \u001b[0;36m<cell line: 7>\u001b[0;34m()\u001b[0m\n\u001b[1;32m      <a href='vscode-notebook-cell:/home/guibyte/projects/dataset_py/teste.ipynb#ch0000002?line=2'>3</a>\u001b[0m item_Dataset \u001b[39m=\u001b[39m pd\u001b[39m.\u001b[39mread_csv(items_path, delimiter\u001b[39m=\u001b[39m\u001b[39m\"\u001b[39m\u001b[39m\\t\u001b[39;00m\u001b[39m\"\u001b[39m)\n\u001b[1;32m      <a href='vscode-notebook-cell:/home/guibyte/projects/dataset_py/teste.ipynb#ch0000002?line=4'>5</a>\u001b[0m item_line \u001b[39m=\u001b[39m item_Dataset\u001b[39m.\u001b[39mhead(\u001b[39m1\u001b[39m)\n\u001b[0;32m----> <a href='vscode-notebook-cell:/home/guibyte/projects/dataset_py/teste.ipynb#ch0000002?line=6'>7</a>\u001b[0m \u001b[39mprint\u001b[39m(items_line)\n",
      "\u001b[0;31mNameError\u001b[0m: name 'items_line' is not defined"
     ]
    }
   ],
   "source": [
    "items_path = './ml-100k/u.info'\n",
    "\n",
    "item_Dataset = pd.read_csv(items_path, delimiter=\"\\t\")\n",
    "\n",
    "item_line = item_Dataset.head(0)\n",
    "\n",
    "print(item_line)\n"
   ]
  }
 ],
 "metadata": {
  "kernelspec": {
   "display_name": "Python 3.10.4 64-bit",
   "language": "python",
   "name": "python3"
  },
  "language_info": {
   "codemirror_mode": {
    "name": "ipython",
    "version": 3
   },
   "file_extension": ".py",
   "mimetype": "text/x-python",
   "name": "python",
   "nbconvert_exporter": "python",
   "pygments_lexer": "ipython3",
   "version": "3.10.4"
  },
  "orig_nbformat": 4,
  "vscode": {
   "interpreter": {
    "hash": "916dbcbb3f70747c44a77c7bcd40155683ae19c65e1c03b4aa3499c5328201f1"
   }
  }
 },
 "nbformat": 4,
 "nbformat_minor": 2
}
