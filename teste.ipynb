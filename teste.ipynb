{
 "cells": [
  {
   "cell_type": "code",
   "execution_count": 1,
   "metadata": {},
   "outputs": [],
   "source": [
    "import pandas as pd   "
   ]
  },
  {
   "cell_type": "code",
   "execution_count": 7,
   "metadata": {},
   "outputs": [
    {
     "name": "stdout",
     "output_type": "stream",
     "text": [
      "   196  242  3  881250949\n",
      "0  186  302  3  891717742\n",
      "1   22  377  1  878887116\n",
      "2  244   51  2  880606923\n",
      "3  166  346  1  886397596\n",
      "4  298  474  4  884182806\n",
      "5  115  265  2  881171488\n",
      "6  253  465  5  891628467\n",
      "7  305  451  3  886324817\n",
      "8    6   86  3  883603013\n",
      "9   62  257  2  879372434\n"
     ]
    }
   ],
   "source": [
    "path = './ml-100k/u.data'\n",
    "\n",
    "my_dataset = pd.read_csv(path, delimiter=\"\\t\") \n",
    "\n",
    "my_dataset = my_dataset.head(10)\n",
    "\n",
    "print(my_dataset)\n",
    "\n",
    "\n",
    "\n"
   ]
  }
 ],
 "metadata": {
  "kernelspec": {
   "display_name": "Python 3.10.4 64-bit",
   "language": "python",
   "name": "python3"
  },
  "language_info": {
   "codemirror_mode": {
    "name": "ipython",
    "version": 3
   },
   "file_extension": ".py",
   "mimetype": "text/x-python",
   "name": "python",
   "nbconvert_exporter": "python",
   "pygments_lexer": "ipython3",
   "version": "3.10.4"
  },
  "orig_nbformat": 4,
  "vscode": {
   "interpreter": {
    "hash": "916dbcbb3f70747c44a77c7bcd40155683ae19c65e1c03b4aa3499c5328201f1"
   }
  }
 },
 "nbformat": 4,
 "nbformat_minor": 2
}
